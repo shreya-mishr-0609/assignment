{
  "nbformat": 4,
  "nbformat_minor": 0,
  "metadata": {
    "colab": {
      "provenance": []
    },
    "kernelspec": {
      "name": "python3",
      "display_name": "Python 3"
    },
    "language_info": {
      "name": "python"
    }
  },
  "cells": [
    {
      "cell_type": "markdown",
      "source": [
        "Q.write a python program to print \"hello,world!\"**bold text**"
      ],
      "metadata": {
        "id": "s-8pR0gnyWyd"
      }
    },
    {
      "cell_type": "code",
      "execution_count": null,
      "metadata": {
        "colab": {
          "base_uri": "https://localhost:8080/"
        },
        "id": "Cyir27zZxp0O",
        "outputId": "c45a1c7c-f94f-474b-a6a1-7c17f6efa897"
      },
      "outputs": [
        {
          "output_type": "stream",
          "name": "stdout",
          "text": [
            "hello, world!\n"
          ]
        }
      ],
      "source": [
        "print(\"hello, world!\")"
      ]
    },
    {
      "cell_type": "markdown",
      "source": [
        "Q.write a python program that display your name and **age**"
      ],
      "metadata": {
        "id": "qj6NHHYby3vG"
      }
    },
    {
      "cell_type": "code",
      "source": [
        "name=\"shreya\"\n",
        "age=\"20\"\n",
        "print(\"Name:\", name)\n",
        "print(\"Age:\", age)"
      ],
      "metadata": {
        "id": "XyFUAhcbzGe3",
        "colab": {
          "base_uri": "https://localhost:8080/"
        },
        "outputId": "53b7b7ee-27b4-4916-ea44-32ef4a6dece2"
      },
      "execution_count": null,
      "outputs": [
        {
          "output_type": "stream",
          "name": "stdout",
          "text": [
            "Name: shreya\n",
            "Age: 20\n"
          ]
        }
      ]
    },
    {
      "cell_type": "markdown",
      "source": [
        "Q.write code to print all the pre-defined keywords in python using the keywords"
      ],
      "metadata": {
        "id": "KRsS8Hv90tum"
      }
    },
    {
      "cell_type": "code",
      "source": [
        "keywords_list = keyword.kwlist\n",
        "print(\"Python Keywords:\")\n",
        "for kw in keywords_list:\n",
        "    print(kw)\n"
      ],
      "metadata": {
        "colab": {
          "base_uri": "https://localhost:8080/"
        },
        "id": "wTKHzjWW11GM",
        "outputId": "0f4b4958-a6a0-4754-e5eb-9426d3a2886f"
      },
      "execution_count": null,
      "outputs": [
        {
          "output_type": "stream",
          "name": "stdout",
          "text": [
            "Python Keywords:\n",
            "False\n",
            "None\n",
            "True\n",
            "and\n",
            "as\n",
            "assert\n",
            "async\n",
            "await\n",
            "break\n",
            "class\n",
            "continue\n",
            "def\n",
            "del\n",
            "elif\n",
            "else\n",
            "except\n",
            "finally\n",
            "for\n",
            "from\n",
            "global\n",
            "if\n",
            "import\n",
            "in\n",
            "is\n",
            "lambda\n",
            "nonlocal\n",
            "not\n",
            "or\n",
            "pass\n",
            "raise\n",
            "return\n",
            "try\n",
            "while\n",
            "with\n",
            "yield\n"
          ]
        }
      ]
    },
    {
      "cell_type": "markdown",
      "source": [
        "Q.write a program that check if a given words is a python"
      ],
      "metadata": {
        "id": "DC3epwjF2c44"
      }
    },
    {
      "cell_type": "code",
      "source": [
        "word=input(\"enter a word\")\n",
        "if keyword.iskeyword(word):\n",
        "         print(f\"'{word}' is a Python keyword.\")\n",
        "else:\n",
        " print(f\"'{word}' is NOT a Python keyword.\")\n"
      ],
      "metadata": {
        "colab": {
          "base_uri": "https://localhost:8080/"
        },
        "id": "5btTuU0w28ha",
        "outputId": "da1e35a6-7415-447a-8135-4a844263e322"
      },
      "execution_count": null,
      "outputs": [
        {
          "output_type": "stream",
          "name": "stdout",
          "text": [
            "enter a wordif\n",
            "'if' is a Python keyword.\n"
          ]
        }
      ]
    },
    {
      "cell_type": "markdown",
      "source": [
        "Q.create a list and tuple in python and demonstrate how attempting to change an element work differntly for each"
      ],
      "metadata": {
        "id": "Avh89sSU7aR8"
      }
    },
    {
      "cell_type": "code",
      "source": [
        "# Creating a list\n",
        "my_list = [10, 20, 30]\n",
        "print(\"Original list:\", my_list)\n",
        "\n",
        "# Changing the second element\n",
        "my_list[1] = 200\n",
        "print(\"Modified list:\", my_list)\n",
        "\n",
        "# Creating a tuple\n",
        "my_tuple = (10, 20, 30)\n",
        "print(\"Original tuple:\", my_tuple)\n",
        "# Trying to change the second element\n",
        "my_tuple[1] = 200  # This will raise an error\n"
      ],
      "metadata": {
        "colab": {
          "base_uri": "https://localhost:8080/"
        },
        "id": "fQ0KCn_G8ETG",
        "outputId": "8ed8072d-c935-4d8b-f140-b416625501c0"
      },
      "execution_count": null,
      "outputs": [
        {
          "output_type": "stream",
          "name": "stdout",
          "text": [
            "Original list: [10, 20, 30]\n",
            "Modified list: [10, 200, 30]\n",
            "Original tuple: (10, 20, 30)\n"
          ]
        }
      ]
    },
    {
      "cell_type": "markdown",
      "source": [
        "Q.Write a function to demonstrate the behavior of mutable and immutable arguments."
      ],
      "metadata": {
        "id": "-zeCilHV-n7P"
      }
    },
    {
      "cell_type": "code",
      "source": [
        "def modify_args(a_number, a_list):\n",
        "    print(\"\\nInside function before modification:\")\n",
        "    print(\"a_number =\", a_number)\n",
        "    print(\"a_list =\", a_list)\n",
        "\n",
        "    # Try modifying both\n",
        "    a_number += 10"
      ],
      "metadata": {
        "id": "cd8-aYJD-rpw"
      },
      "execution_count": null,
      "outputs": []
    },
    {
      "cell_type": "markdown",
      "source": [],
      "metadata": {
        "id": "dsbOG15q_00e"
      }
    },
    {
      "cell_type": "markdown",
      "source": [
        " Write a program that performs basic arithmetic operations on two user-input numbers"
      ],
      "metadata": {
        "id": "M0S_9wbzBKwZ"
      }
    },
    {
      "cell_type": "code",
      "source": [
        "num1 = int(input(\"enter the first number:\"))\n",
        "num2 = int(input(\" enter the second number:\"))\n",
        "\n",
        "addition = num1 + num2\n",
        "subtraction = num1 - num2\n",
        "multiplication = num1 * num2\n",
        "division = num1 / num2\n",
        "\n",
        "print(f\"{num1} + {num2} = {addition}\")\n",
        "print(f\"{num1} - {num2} = {subtraction}\")\n",
        "print(f\"{num1} * {num2} = {multiplication}\")\n",
        "print(f\"{num1} / {num2} = {division}\")"
      ],
      "metadata": {
        "colab": {
          "base_uri": "https://localhost:8080/"
        },
        "id": "66AKlVInBXHR",
        "outputId": "eb6b3375-112a-4b87-a97e-af22a711f5fe"
      },
      "execution_count": null,
      "outputs": [
        {
          "output_type": "stream",
          "name": "stdout",
          "text": [
            "enter the first number:54\n",
            " enter the second number:65\n",
            "54 + 65 = 119\n",
            "54 - 65 = -11\n",
            "54 * 65 = 3510\n",
            "54 / 65 = 0.8307692307692308\n"
          ]
        }
      ]
    },
    {
      "cell_type": "markdown",
      "source": [
        "Write a program to demonstrate the use of logical operators."
      ],
      "metadata": {
        "id": "KMvjbTftDMJ3"
      }
    },
    {
      "cell_type": "code",
      "source": [
        "a = True\n",
        "b = False\n",
        "\n",
        "\n",
        "print(\"a and b:\", a and b)\n",
        "\n",
        "\n",
        "print(\"a or b:\", a or b)\n",
        "\n",
        "\n",
        "print(\"not a:\", not a)\n",
        "print(\"not b:\", not b)"
      ],
      "metadata": {
        "colab": {
          "base_uri": "https://localhost:8080/"
        },
        "id": "m4LbDMlLDav_",
        "outputId": "6c1b290b-2e7e-464b-d9c0-9d55f24ca1e2"
      },
      "execution_count": null,
      "outputs": [
        {
          "output_type": "stream",
          "name": "stdout",
          "text": [
            "a and b: False\n",
            "a or b: True\n",
            "not a: False\n",
            "not b: True\n"
          ]
        }
      ]
    },
    {
      "cell_type": "markdown",
      "source": [
        " Write a Python program to convert user input from string to integer, float, and boolean types."
      ],
      "metadata": {
        "id": "y4_aMHf8DiCt"
      }
    },
    {
      "cell_type": "code",
      "source": [
        "user_input = input(\"enter a value:\")\n",
        "\n",
        "int_value = int(user_input)\n",
        "print(int_value)\n",
        "\n",
        "float_value = float(user_input)\n",
        "print(float_value)\n",
        "\n",
        "bool_value = bool(user_input) and user_input.strip().lower() not in ['false', '0', 'none', '']\n",
        "print(bool_value)"
      ],
      "metadata": {
        "colab": {
          "base_uri": "https://localhost:8080/"
        },
        "id": "8TYdz-5oD1D4",
        "outputId": "6c5763fe-f88c-4bdb-d692-1f20bf84a195"
      },
      "execution_count": null,
      "outputs": [
        {
          "output_type": "stream",
          "name": "stdout",
          "text": [
            "enter a value:4\n",
            "4\n",
            "4.0\n",
            "True\n"
          ]
        }
      ]
    },
    {
      "cell_type": "markdown",
      "source": [
        "Write code to demonstrate type casting with list elements."
      ],
      "metadata": {
        "id": "dfYbSvbmJIFs"
      }
    },
    {
      "cell_type": "code",
      "source": [
        "string_list = [\"10\", \"20\", \"30\", \"40.5\", \"True\"]\n",
        "\n",
        "print(\"Original list (strings):\", string_list)\n",
        "\n",
        "\n",
        "int_list = [int(x) for x in string_list if x.isdigit()]\n",
        "print(\"Converted to integers:\", int_list)\n",
        "\n",
        "\n",
        "try:\n",
        "    float_list = [float(x) for x in string_list]\n",
        "    print(\"Converted to floats:\", float_list)\n",
        "except ValueError as e:\n",
        "    print(\"Error converting to float:\", e)\n",
        "\n",
        "\n",
        "bool_list = [bool(x.strip()) and x.strip().lower() not in ['false', '0', 'none', ''] for x in string_list]\n",
        "print(\"Converted to booleans:\", bool_list)\n"
      ],
      "metadata": {
        "id": "OV-fVIryLHZB",
        "outputId": "f02a3b08-8ec5-41b5-a966-c48b2fd9203d",
        "colab": {
          "base_uri": "https://localhost:8080/"
        }
      },
      "execution_count": null,
      "outputs": [
        {
          "output_type": "stream",
          "name": "stdout",
          "text": [
            "Original list (strings): ['10', '20', '30', '40.5', 'True']\n",
            "Converted to integers: [10, 20, 30]\n",
            "Error converting to float: could not convert string to float: 'True'\n",
            "Converted to booleans: [True, True, True, True, True]\n"
          ]
        }
      ]
    },
    {
      "cell_type": "markdown",
      "source": [
        " Write a program that checks if a number is positive, negative, or zero."
      ],
      "metadata": {
        "id": "NmGZvLQsu6Nd"
      }
    },
    {
      "cell_type": "code",
      "source": [
        "num = int(input(\"enter any number:\"))\n",
        "if num > 0:\n",
        "  print(\"number is posetive\")\n",
        "elif num < 0:\n",
        "  print(\"number is negavite\")\n",
        "else:\n",
        "  print(\"number is zero\")"
      ],
      "metadata": {
        "colab": {
          "base_uri": "https://localhost:8080/"
        },
        "id": "z_KEl_qwu7O1",
        "outputId": "53571aba-9857-4817-a10e-3642eb99ba28"
      },
      "execution_count": null,
      "outputs": [
        {
          "output_type": "stream",
          "name": "stdout",
          "text": [
            "enter any number7\n",
            "number is posetive\n"
          ]
        }
      ]
    },
    {
      "cell_type": "markdown",
      "source": [
        "Write a for loop to print numbers from 1 to 10"
      ],
      "metadata": {
        "id": "SBQdhBwVzAeV"
      }
    },
    {
      "cell_type": "code",
      "source": [
        "for number in range(1 ,11):\n",
        "  print(number)"
      ],
      "metadata": {
        "colab": {
          "base_uri": "https://localhost:8080/"
        },
        "id": "3chU2O-CzBZb",
        "outputId": "a7e6a694-c6c8-48e9-d42c-f2ee15eb6fe7"
      },
      "execution_count": null,
      "outputs": [
        {
          "output_type": "stream",
          "name": "stdout",
          "text": [
            "1\n",
            "2\n",
            "3\n",
            "4\n",
            "5\n",
            "6\n",
            "7\n",
            "8\n",
            "9\n",
            "10\n"
          ]
        }
      ]
    },
    {
      "cell_type": "markdown",
      "source": [
        " Write a Python program to find the sum of all even numbers between 1 and 50"
      ],
      "metadata": {
        "id": "UO-984rr0h57"
      }
    },
    {
      "cell_type": "code",
      "source": [
        "sum =0\n",
        "for number in range(1,51):\n",
        "  if number%2==0:\n",
        "     sum+=number\n",
        "print(\"sum of even number between 1 and 50:\",sum)"
      ],
      "metadata": {
        "colab": {
          "base_uri": "https://localhost:8080/"
        },
        "id": "nIWTFMQU0o52",
        "outputId": "32a844f2-2a15-4b52-9955-90b6f71df3fd"
      },
      "execution_count": null,
      "outputs": [
        {
          "output_type": "stream",
          "name": "stdout",
          "text": [
            "sum of even number between 1 and 50 650\n"
          ]
        }
      ]
    },
    {
      "cell_type": "markdown",
      "source": [
        ". Write a program to reverse a string using a while loop."
      ],
      "metadata": {
        "id": "tW6-QuSl3bXk"
      }
    },
    {
      "cell_type": "code",
      "source": [
        "\n",
        "original_string = input(\"Enter a string: \")\n",
        "\n",
        "\n",
        "reversed_string = \"\"\n",
        "index = len(original_string) - 1\n",
        "\n",
        "while index >= 0:\n",
        "    reversed_string += original_string[index]\n",
        "    index -= 1\n",
        "\n",
        "print(\"Reversed string:\", reversed_string)\n"
      ],
      "metadata": {
        "colab": {
          "base_uri": "https://localhost:8080/"
        },
        "id": "-ku6SZ023css",
        "outputId": "76990fb6-bb01-4ea1-c2e2-02f13f36500f"
      },
      "execution_count": null,
      "outputs": [
        {
          "output_type": "stream",
          "name": "stdout",
          "text": [
            "Enter a string: shreya\n",
            "Reversed string: ayerhs\n"
          ]
        }
      ]
    },
    {
      "cell_type": "markdown",
      "source": [
        " Write a Python program to calculate the factorial of a number provided by the user using a while loop."
      ],
      "metadata": {
        "id": "D-v6F093407w"
      }
    },
    {
      "cell_type": "code",
      "source": [
        "num =int(input(\"enter any number\"))\n",
        "factorial=1\n",
        "i=1\n",
        "while i <= num:\n",
        "        factorial *= i\n",
        "        i += 1\n",
        "\n",
        "print(f\"the factorial{num}is: {factorial}\")"
      ],
      "metadata": {
        "colab": {
          "base_uri": "https://localhost:8080/"
        },
        "id": "_oUa8W5B42Fr",
        "outputId": "f5b56cd7-dd35-44e4-e38d-94a9717768e8"
      },
      "execution_count": null,
      "outputs": [
        {
          "output_type": "stream",
          "name": "stdout",
          "text": [
            "enter any number5\n",
            "the factorial5is: 120\n"
          ]
        }
      ]
    }
  ]
}